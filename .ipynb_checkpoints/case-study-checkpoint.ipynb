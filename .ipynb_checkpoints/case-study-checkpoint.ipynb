{
 "cells": [
  {
   "cell_type": "markdown",
   "id": "67a2f5e4-4301-4763-83b5-191115d3c71a",
   "metadata": {},
   "source": [
    "### Loading the Libraries"
   ]
  },
  {
   "cell_type": "code",
   "execution_count": null,
   "id": "ef935005-2eed-4de4-9f8b-a3fd5a90d782",
   "metadata": {},
   "outputs": [],
   "source": [
    "# Installing Packages\n",
    "install.packages(\"tidymodels\");\n",
    "install.packages(\"aod\")\n",
    "install.packages(\"ggcorrplot\");"
   ]
  },
  {
   "cell_type": "code",
   "execution_count": null,
   "id": "aff25d8b-e3df-4103-9458-9c2cc94a20e3",
   "metadata": {},
   "outputs": [],
   "source": [
    "library(tidyverse)\n",
    "library(ggcorrplot)\n",
    "library(tidymodels)\n",
    "library(readr)\n",
    "library(aod)\n",
    "library(glmnet)"
   ]
  },
  {
   "cell_type": "markdown",
   "id": "ace849ab-1014-452a-9929-f93e22116d38",
   "metadata": {},
   "source": [
    "### Exploratory Analysis: Finding Explanatory Variables\n",
    "#### Read the training and test data into R"
   ]
  },
  {
   "cell_type": "code",
   "execution_count": null,
   "id": "5c125177-ee15-414c-ae32-14c1c0e656b5",
   "metadata": {},
   "outputs": [],
   "source": [
    "#Reading the dataset into R\n",
    "train <- read.csv(\"train.csv\") \n",
    "train$Customer_Churn <- as.factor(train$Customer_Churn) #Turn from Integer into a factor\n",
    "\n",
    "#Reading the testing set into R\n",
    "test <- read.csv(\"test.csv\")\n",
    "test$Customer_Churn <- as.factor(test$Customer_Churn) # Turn Churn from integer into a factor"
   ]
  },
  {
   "cell_type": "code",
   "execution_count": null,
   "id": "03da2aae-94b4-4e01-8cfb-e1d719501440",
   "metadata": {},
   "outputs": [],
   "source": [
    "standardized_data <- train_sample |> \n",
    "                    select(-ID, -Customer_Churn) |>\n",
    "                    mutate_all(~(scale(.) %>% as.vector)) \n",
    "\n",
    "# Correlation for different combinations of variables\n",
    "correlation<- standardized_data |> cor(use=\"complete.obs\") # find the correlation\n",
    "ggcorrplot(correlation, \n",
    "          hc.order = TRUE, \n",
    "          lab = TRUE, \n",
    "          type = \"lower\");\n",
    "\n",
    "# Comparing the Variables\n",
    "compare_customers <- function(){\n",
    "    ggplot(churn, aes(x = Age, color = as.factor(AI_Interaction_Level))) +\n",
    "    geom_histogram(fill = \"white\", bins = 10)\n",
    "}\n",
    "\n",
    "table(train$Customer_Churn)"
   ]
  },
  {
   "cell_type": "markdown",
   "id": "41917858-841e-4584-9177-006bcfce117a",
   "metadata": {},
   "source": [
    "### Preparing the Classification Model\n",
    "\n",
    "#### Preprocessing the data: Selecting the Explanatory Variables"
   ]
  },
  {
   "cell_type": "code",
   "execution_count": null,
   "id": "a8c58774-ba4c-43e5-a182-f9c1004fb134",
   "metadata": {},
   "outputs": [],
   "source": [
    "# Setting the seed for reproducibility\n",
    "set.seed(2024) \n",
    "# Separate data based on customer churning\n",
    "churn <- train |> filter(Customer_Churn == 1)\n",
    "non_churn <- train |> filter(Customer_Churn == 0)\n",
    "\n",
    "# Have equal number of Churned customers and unchurned customers\n",
    "churn_sample <- rep_sample_n(churn, reps =1, size= 2090) \n",
    "non_churn_sample <- rep_sample_n(non_churn, reps=1, size=2090) \n",
    "            \n",
    "#Combine the samples from Churned and Unchurned\n",
    "train_sample <- rbind(churn_sample, non_churn_sample) |>\n",
    "                ungroup() |>\n",
    "                select(-replicate) |>\n",
    "                select(ID, Customer_Churn, AI_Interaction_Level, AI_Personalization_Effectiveness)\n",
    "\n",
    "# Standardize the variables\n",
    "head(train_sample)"
   ]
  },
  {
   "cell_type": "markdown",
   "id": "6ed929ca-4b58-4fd0-aca1-95881f0ee4ba",
   "metadata": {},
   "source": [
    "### Attempting Logistic Regression\n",
    "#### Assumptions\n",
    "1. **No Multicolinearity:** The explanatory variables must be re**No Multicolinearity:** latively independent - that means two chosen variables cannot have a high correlation (`AI_Personalization_Effectiveness`, `AI_Interaction_Level`)\n",
    "2. **Independent Observations**\n",
    "3. **Binary Outcomes** - Determine whether a customer is at risk of churning - Churn (1) or No Churn (0)\n",
    "4. **Large Data Set** - Each class has at least 2000 observations."
   ]
  },
  {
   "cell_type": "code",
   "execution_count": null,
   "id": "1f5b264f-318b-4f2a-9178-079f3e03718b",
   "metadata": {},
   "outputs": [],
   "source": [
    "## Intialize the logistic Regression model\n",
    "model <- logistic_reg(penalty = 0.0001,\n",
    "                      mixture = ,\n",
    "                     engine = \"glmnet\", \n",
    "                     mode = \"classification\") |>\n",
    "          fit(Customer_Churn ~ ., data = train_sample)\n",
    "\n",
    "# Make a prediction for the test data\n",
    "pred_class <- predict(model, new_data = test, type = \"class\") \n",
    "results <- test |>\n",
    "    select(Customer_Churn) |>\n",
    "    bind_cols(pred_class)\n",
    "\n",
    "# Assessing the results\n",
    "#Generate the confusion matrix\n",
    "conf_mat(results, truth = Customer_Churn,\n",
    "         estimate = .pred_class)\n",
    "\n",
    "# Assess the Accuracy\n",
    "precision(results, \n",
    "          truth = Customer_Churn,\n",
    "          estimate = .pred_class)"
   ]
  },
  {
   "cell_type": "markdown",
   "id": "f4dd608c-e028-479f-8e74-e4fadad6f190",
   "metadata": {},
   "source": [
    "### Robustness of Classifier: Cross Validation"
   ]
  }
 ],
 "metadata": {
  "kernelspec": {
   "display_name": "R",
   "language": "R",
   "name": "ir"
  },
  "language_info": {
   "codemirror_mode": "r",
   "file_extension": ".r",
   "mimetype": "text/x-r-source",
   "name": "R",
   "pygments_lexer": "r",
   "version": "4.3.1"
  }
 },
 "nbformat": 4,
 "nbformat_minor": 5
}
